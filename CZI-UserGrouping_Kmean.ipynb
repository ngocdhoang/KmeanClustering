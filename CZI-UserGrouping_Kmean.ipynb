{
 "cells": [
  {
   "cell_type": "code",
   "execution_count": 204,
   "metadata": {},
   "outputs": [],
   "source": [
    "import numpy as np\n",
    "import pandas as pd\n",
    "from matplotlib import pyplot as plt\n",
    "import seaborn as sns\n",
    "import sklearn.linear_model\n",
    "import seaborn as sb\n",
    "import statsmodels.api as sm\n",
    "from sklearn.cross_validation import cross_val_score\n",
    "from sklearn.linear_model import LinearRegression\n",
    "from sklearn import linear_model\n",
    "from sklearn.datasets import make_blobs\n",
    "from sklearn.cluster import KMeans"
   ]
  },
  {
   "cell_type": "code",
   "execution_count": 205,
   "metadata": {},
   "outputs": [
    {
     "data": {
      "text/html": [
       "<div>\n",
       "<style scoped>\n",
       "    .dataframe tbody tr th:only-of-type {\n",
       "        vertical-align: middle;\n",
       "    }\n",
       "\n",
       "    .dataframe tbody tr th {\n",
       "        vertical-align: top;\n",
       "    }\n",
       "\n",
       "    .dataframe thead th {\n",
       "        text-align: right;\n",
       "    }\n",
       "</style>\n",
       "<table border=\"1\" class=\"dataframe\">\n",
       "  <thead>\n",
       "    <tr style=\"text-align: right;\">\n",
       "      <th></th>\n",
       "      <th>Meta User ID (prop2)</th>\n",
       "      <th>Average Page Depth</th>\n",
       "      <th>Page Views</th>\n",
       "      <th>Bounce Rate</th>\n",
       "      <th>Time Spent per Visitor (seconds)</th>\n",
       "      <th>Content Velocity</th>\n",
       "      <th>Page Velocity</th>\n",
       "      <th>Visits</th>\n",
       "      <th>Searches</th>\n",
       "    </tr>\n",
       "  </thead>\n",
       "  <tbody>\n",
       "    <tr>\n",
       "      <th>0</th>\n",
       "      <td>T9_-ZK39TjG5tejbIcE61g</td>\n",
       "      <td>364</td>\n",
       "      <td>24279</td>\n",
       "      <td>0.000</td>\n",
       "      <td>1537837</td>\n",
       "      <td>674.5</td>\n",
       "      <td>674.53</td>\n",
       "      <td>36</td>\n",
       "      <td>0</td>\n",
       "    </tr>\n",
       "    <tr>\n",
       "      <th>1</th>\n",
       "      <td>1sS-rD7qQ8uq4oTSavmxQA</td>\n",
       "      <td>242</td>\n",
       "      <td>6930</td>\n",
       "      <td>0.000</td>\n",
       "      <td>378673</td>\n",
       "      <td>239.0</td>\n",
       "      <td>239.03</td>\n",
       "      <td>29</td>\n",
       "      <td>0</td>\n",
       "    </tr>\n",
       "    <tr>\n",
       "      <th>2</th>\n",
       "      <td>KIQ7WauTQwifm-prE4940w</td>\n",
       "      <td>211</td>\n",
       "      <td>9259</td>\n",
       "      <td>0.000</td>\n",
       "      <td>510134</td>\n",
       "      <td>330.8</td>\n",
       "      <td>330.82</td>\n",
       "      <td>28</td>\n",
       "      <td>0</td>\n",
       "    </tr>\n",
       "    <tr>\n",
       "      <th>3</th>\n",
       "      <td>RGROm3OUQ06kv7tARinqUg</td>\n",
       "      <td>198</td>\n",
       "      <td>8576</td>\n",
       "      <td>0.000</td>\n",
       "      <td>305153</td>\n",
       "      <td>209.5</td>\n",
       "      <td>209.54</td>\n",
       "      <td>41</td>\n",
       "      <td>0</td>\n",
       "    </tr>\n",
       "    <tr>\n",
       "      <th>4</th>\n",
       "      <td>wUYowdAVRPeJdoVVvihKGw</td>\n",
       "      <td>159</td>\n",
       "      <td>4506</td>\n",
       "      <td>0.444</td>\n",
       "      <td>290442</td>\n",
       "      <td>62.6</td>\n",
       "      <td>62.64</td>\n",
       "      <td>72</td>\n",
       "      <td>0</td>\n",
       "    </tr>\n",
       "  </tbody>\n",
       "</table>\n",
       "</div>"
      ],
      "text/plain": [
       "     Meta User ID (prop2)  Average Page Depth  Page Views  Bounce Rate  \\\n",
       "0  T9_-ZK39TjG5tejbIcE61g                 364       24279        0.000   \n",
       "1  1sS-rD7qQ8uq4oTSavmxQA                 242        6930        0.000   \n",
       "2  KIQ7WauTQwifm-prE4940w                 211        9259        0.000   \n",
       "3  RGROm3OUQ06kv7tARinqUg                 198        8576        0.000   \n",
       "4  wUYowdAVRPeJdoVVvihKGw                 159        4506        0.444   \n",
       "\n",
       "   Time Spent per Visitor (seconds)  Content Velocity  Page Velocity  Visits  \\\n",
       "0                           1537837             674.5         674.53      36   \n",
       "1                            378673             239.0         239.03      29   \n",
       "2                            510134             330.8         330.82      28   \n",
       "3                            305153             209.5         209.54      41   \n",
       "4                            290442              62.6          62.64      72   \n",
       "\n",
       "   Searches  \n",
       "0         0  \n",
       "1         0  \n",
       "2         0  \n",
       "3         0  \n",
       "4         0  "
      ]
     },
     "execution_count": 205,
     "metadata": {},
     "output_type": "execute_result"
    }
   ],
   "source": [
    "data = pd.read_csv(\"Downloads/CZI User ID Buckets.csv\")\n",
    "data.head()"
   ]
  },
  {
   "cell_type": "code",
   "execution_count": 206,
   "metadata": {},
   "outputs": [],
   "source": [
    "f1 = data[\"Visits\"].values\n",
    "f2 = data[\"Time Spent per Visitor (seconds)\"].values\n",
    "f3 = data[\"Page Views\"].values"
   ]
  },
  {
   "cell_type": "code",
   "execution_count": 207,
   "metadata": {},
   "outputs": [
    {
     "name": "stdout",
     "output_type": "stream",
     "text": [
      "[[   93.04        5534.68      ]\n",
      " [   31.          1028.45714286]\n",
      " [   75.8        17017.        ]]\n"
     ]
    }
   ],
   "source": [
    "X=np.matrix(zip(f1, f3))\n",
    "kmeans = KMeans(n_clusters=3).fit(X)\n",
    "print kmeans.cluster_centers_\n"
   ]
  },
  {
   "cell_type": "code",
   "execution_count": 212,
   "metadata": {},
   "outputs": [
    {
     "data": {
      "image/png": "[encoded data removed]",
      "text/plain": [
       "<Figure size 432x288 with 1 Axes>"
      ]
     },
     "metadata": {
      "needs_background": "light"
     },
     "output_type": "display_data"
    }
   ],
   "source": [
    "plt.scatter([X[ : , 0]], [X[ :, 1]])\n",
    "plt.scatter(31, 1028.4571 , s=200, c='g')\n",
    "plt.scatter(75.8, 17017, s=200, c='r')\n",
    "plt.scatter(93.04, 5534.68, s=200, c='y')\n",
    "plt.xlabel(\"Visits\")\n",
    "plt.ylabel(\"Page Views\")\n",
    "plt.show()"
   ]
  },
  {
   "cell_type": "code",
   "execution_count": 203,
   "metadata": {},
   "outputs": [
    {
     "data": {
      "text/plain": [
       "0    70\n",
       "1     5\n",
       "2    25\n",
       "Name: group, dtype: int64"
      ]
     },
     "execution_count": 203,
     "metadata": {},
     "output_type": "execute_result"
    }
   ],
   "source": [
    "data[\"group\"].value_counts().sort_index()"
   ]
  },
  {
   "cell_type": "code",
   "execution_count": 155,
   "metadata": {},
   "outputs": [],
   "source": [
    "data[\"group\"] = kmeans.labels_\n",
    "data.to_csv(\"Downloads/CZI User ID Buckets_grouped.csv\")"
   ]
  }
 ],
 "metadata": {
  "kernelspec": {
   "display_name": "Python 2",
   "language": "python",
   "name": "python2"
  },
  "language_info": {
   "codemirror_mode": {
    "name": "ipython",
    "version": 2
   },
   "file_extension": ".py",
   "mimetype": "text/x-python",
   "name": "python",
   "nbconvert_exporter": "python",
   "pygments_lexer": "ipython2",
   "version": "2.7.15"
  }
 },
 "nbformat": 4,
 "nbformat_minor": 2
}
